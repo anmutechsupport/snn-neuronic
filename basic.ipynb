{
 "cells": [
  {
   "cell_type": "code",
   "execution_count": null,
   "metadata": {},
   "outputs": [],
   "source": []
  }
 ],
 "metadata": {
  "kernelspec": {
   "display_name": "torch",
   "language": "python",
   "name": "python3"
  },
  "language_info": {
   "name": "python",
   "version": "3.9.16"
  },
  "orig_nbformat": 4,
  "vscode": {
   "interpreter": {
    "hash": "f454495225de05596a00b7cbfa2f2e8c3a59ab86a273e8b690e35927245f4b60"
   }
  }
 },
 "nbformat": 4,
 "nbformat_minor": 2
}
